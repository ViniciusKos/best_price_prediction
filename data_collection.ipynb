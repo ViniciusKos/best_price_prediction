{
 "cells": [
  {
   "cell_type": "markdown",
   "metadata": {},
   "source": [
    "High Value Customer Identification (Insiders)"
   ]
  },
  {
   "cell_type": "code",
   "execution_count": 2,
   "metadata": {},
   "outputs": [],
   "source": [
    "import pandas as pd\n",
    "import numpy as np\n",
    "from bs4 import BeautifulSoup\n",
    "from datetime import datetime\n",
    "import requests"
   ]
  },
  {
   "cell_type": "code",
   "execution_count": 2,
   "metadata": {},
   "outputs": [],
   "source": [
    "!pip list --format=freeze > requirements.txt"
   ]
  },
  {
   "cell_type": "markdown",
   "metadata": {},
   "source": [
    "# Multiple products"
   ]
  },
  {
   "cell_type": "code",
   "execution_count": 14,
   "metadata": {},
   "outputs": [
    {
     "data": {
      "text/plain": [
       "'90'"
      ]
     },
     "execution_count": 14,
     "metadata": {},
     "output_type": "execute_result"
    }
   ],
   "source": [
    "url = 'https://www2.hm.com/en_us/men/products/jeans.html'\n",
    "\n",
    "headers = {\"User-Agent\" : 'Mozilla/5.0 (Windows NT 10.0; Win64; x64) AppleWebKit/537.36 (KHTML, like Gecko) Chrome/107.0.0.0 Safari/537.36'}\n",
    "\n",
    "page = requests.get( url, headers=headers )\n",
    "\n",
    "soup = BeautifulSoup( page.text, \"html.parser\")\n",
    "\n",
    "total_item = soup.find_all( 'h2', class_='load-more-heading' )[0].get( 'data-total' )\n",
    "total_item"
   ]
  },
  {
   "cell_type": "code",
   "execution_count": 15,
   "metadata": {},
   "outputs": [
    {
     "data": {
      "text/plain": [
       "2.0"
      ]
     },
     "execution_count": 15,
     "metadata": {},
     "output_type": "execute_result"
    }
   ],
   "source": [
    "page_number = np.round( int( total_item ) / 36 )\n",
    "page_number"
   ]
  },
  {
   "cell_type": "code",
   "execution_count": 16,
   "metadata": {},
   "outputs": [
    {
     "data": {
      "text/plain": [
       "'https://www2.hm.com/en_us/men/products/jeans.html?page-size=72'"
      ]
     },
     "execution_count": 16,
     "metadata": {},
     "output_type": "execute_result"
    }
   ],
   "source": [
    "urlfull = url + '?page-size=' + str( int( page_number*36 ) )\n",
    "urlfull"
   ]
  },
  {
   "cell_type": "code",
   "execution_count": 17,
   "metadata": {},
   "outputs": [
    {
     "data": {
      "text/plain": [
       "'90'"
      ]
     },
     "execution_count": 17,
     "metadata": {},
     "output_type": "execute_result"
    }
   ],
   "source": [
    "urlfull = 'https://www2.hm.com/en_us/men/products/jeans.html'\n",
    "\n",
    "headers = {\"User-Agent\" : 'Mozilla/5.0 (Windows NT 10.0; Win64; x64) AppleWebKit/537.36 (KHTML, like Gecko) Chrome/107.0.0.0 Safari/537.36'}\n",
    "\n",
    "page = requests.get( url, headers=headers )\n",
    "\n",
    "soup = BeautifulSoup( page.text, \"html.parser\")\n",
    "\n",
    "total_item = soup.find_all( 'h2', class_='load-more-heading' )[0].get( 'data-total' )\n",
    "total_item"
   ]
  },
  {
   "cell_type": "code",
   "execution_count": 18,
   "metadata": {},
   "outputs": [],
   "source": [
    "products = soup.find( 'ul', class_='products-listing small' )"
   ]
  },
  {
   "cell_type": "code",
   "execution_count": 19,
   "metadata": {},
   "outputs": [],
   "source": [
    "product_list = products.find_all( \"article\", class_=\"hm-product-item\")\n",
    "\n",
    "product_id = [ p.get( 'data-articlecode') for p in product_list]\n",
    "\n",
    "product_category = [ p.get( 'data-category') for p in product_list]\n",
    "\n",
    "list_name = products.find_all( \"a\", class_ = 'link')\n",
    "\n",
    "product_name = [ p.get_text() for p in list_name]\n",
    "\n",
    "price_list = products.find_all( \"span\", class_ = 'price regular')\n",
    "\n",
    "product_price = [ p.get_text() for p in price_list]"
   ]
  },
  {
   "cell_type": "code",
   "execution_count": 20,
   "metadata": {},
   "outputs": [
    {
     "data": {
      "text/html": [
       "<div>\n",
       "<style scoped>\n",
       "    .dataframe tbody tr th:only-of-type {\n",
       "        vertical-align: middle;\n",
       "    }\n",
       "\n",
       "    .dataframe tbody tr th {\n",
       "        vertical-align: top;\n",
       "    }\n",
       "\n",
       "    .dataframe thead th {\n",
       "        text-align: right;\n",
       "    }\n",
       "</style>\n",
       "<table border=\"1\" class=\"dataframe\">\n",
       "  <thead>\n",
       "    <tr style=\"text-align: right;\">\n",
       "      <th></th>\n",
       "      <th>product_id</th>\n",
       "      <th>product_category</th>\n",
       "      <th>product_name</th>\n",
       "      <th>product_price</th>\n",
       "      <th>scrapy_datetime</th>\n",
       "    </tr>\n",
       "  </thead>\n",
       "  <tbody>\n",
       "    <tr>\n",
       "      <th>0</th>\n",
       "      <td>1024256001</td>\n",
       "      <td>men_jeans_slim</td>\n",
       "      <td>Slim Jeans</td>\n",
       "      <td>$ 19.99</td>\n",
       "      <td>2022-11-30 05:56:05</td>\n",
       "    </tr>\n",
       "    <tr>\n",
       "      <th>1</th>\n",
       "      <td>0985159001</td>\n",
       "      <td>men_jeans_skinny</td>\n",
       "      <td>Skinny Jeans</td>\n",
       "      <td>$ 24.99</td>\n",
       "      <td>2022-11-30 05:56:05</td>\n",
       "    </tr>\n",
       "    <tr>\n",
       "      <th>2</th>\n",
       "      <td>1008549001</td>\n",
       "      <td>men_jeans_regular</td>\n",
       "      <td>Regular Jeans</td>\n",
       "      <td>$ 24.99</td>\n",
       "      <td>2022-11-30 05:56:05</td>\n",
       "    </tr>\n",
       "    <tr>\n",
       "      <th>3</th>\n",
       "      <td>1024256003</td>\n",
       "      <td>men_jeans_slim</td>\n",
       "      <td>Slim Jeans</td>\n",
       "      <td>$ 19.99</td>\n",
       "      <td>2022-11-30 05:56:05</td>\n",
       "    </tr>\n",
       "    <tr>\n",
       "      <th>4</th>\n",
       "      <td>0690449022</td>\n",
       "      <td>men_jeans_ripped</td>\n",
       "      <td>Skinny Jeans</td>\n",
       "      <td>$ 39.99</td>\n",
       "      <td>2022-11-30 05:56:05</td>\n",
       "    </tr>\n",
       "  </tbody>\n",
       "</table>\n",
       "</div>"
      ],
      "text/plain": [
       "   product_id   product_category   product_name product_price  \\\n",
       "0  1024256001     men_jeans_slim     Slim Jeans       $ 19.99   \n",
       "1  0985159001   men_jeans_skinny   Skinny Jeans       $ 24.99   \n",
       "2  1008549001  men_jeans_regular  Regular Jeans       $ 24.99   \n",
       "3  1024256003     men_jeans_slim     Slim Jeans       $ 19.99   \n",
       "4  0690449022   men_jeans_ripped   Skinny Jeans       $ 39.99   \n",
       "\n",
       "       scrapy_datetime  \n",
       "0  2022-11-30 05:56:05  \n",
       "1  2022-11-30 05:56:05  \n",
       "2  2022-11-30 05:56:05  \n",
       "3  2022-11-30 05:56:05  \n",
       "4  2022-11-30 05:56:05  "
      ]
     },
     "execution_count": 20,
     "metadata": {},
     "output_type": "execute_result"
    }
   ],
   "source": [
    "df_products = pd.DataFrame( [product_id, product_category, product_name, product_price] ).T\n",
    "df_products.columns = ['product_id', 'product_category', 'product_name', 'product_price']\n",
    "df_products['scrapy_datetime'] = datetime.now().strftime( '%Y-%m-%d %H:%M:%S' )\n",
    "#df_products['style_id'] = df_products['product_id'].str[:-3]\n",
    "#df_products['color_id'] = df_products['product_id'].str[-3:]\n",
    "df_products.head()"
   ]
  },
  {
   "cell_type": "code",
   "execution_count": 21,
   "metadata": {},
   "outputs": [],
   "source": [
    "headers = {\"User-Agent\" : 'Mozilla/5.0 (Windows NT 10.0; Win64; x64) AppleWebKit/537.36 (KHTML, like Gecko) Chrome/107.0.0.0 Safari/537.36'}\n",
    "\n",
    "df_details = pd.DataFrame()\n",
    "\n",
    "#unique columns for all products\n",
    "aux = []\n",
    "\n",
    "cols = ['Additional material information','Art. No.','Care instructions','Collection','Composition','Concept','Description','Fit','Imported','Material','Size']\n",
    "df_pattern = pd.DataFrame( columns = cols)\n",
    "\n",
    "for i in df_products['product_id'].unique():\n",
    "\n",
    "    url = f'https://www2.hm.com/en_us/productpage.{i}.html'\n",
    "\n",
    "    page = requests.get( url, headers=headers )\n",
    "\n",
    "    soup = BeautifulSoup( page.text , 'html.parser' )\n",
    "\n",
    "    product_list = soup.find_all('div', class_='details-attributes-list-item')\n",
    "\n",
    "\n",
    "    # remove empty strings\n",
    "    product_composition = [list(filter(None, p.get_text().split('\\n'))) for p in product_list]\n",
    "\n",
    "\n",
    "    # list to dataframe\n",
    "    data_composition = pd.DataFrame(product_composition).T\n",
    "\n",
    "\n",
    "    # data aux\n",
    "    data_composition_aux = data_composition.iloc[0]\n",
    "\n",
    "\n",
    "    # rename df columns\n",
    "    data_composition.columns = data_composition_aux\n",
    "\n",
    "    aux = aux + data_composition.columns.tolist()\n",
    "\n",
    "    aux = [i for i in aux if \"messages.\" not in i]\n",
    "\n",
    "    # forward fillna\n",
    "    data_composition = data_composition.iloc[1:].fillna(method='ffill')\n",
    "\n",
    "    data_composition = pd.concat( [df_pattern, data_composition], axis=0)\n",
    "\n",
    "\n",
    "    # drop duplicates\n",
    "    data_composition = data_composition.drop_duplicates(subset=['Fit', 'Composition', 'Art. No.'], keep='first', inplace=False, ignore_index=False)\n",
    "\n",
    "\n",
    "    # only selected columns\n",
    "    data_composition = data_composition[cols].copy()\n",
    "\n",
    "    data_composition.columns = data_composition.columns.str.lower()\n",
    "\n",
    "    data_composition['style_id'] = data_composition['art. no.'].str[:-3]\n",
    "\n",
    "    data_composition['color_id'] = data_composition['art. no.'].str[-3:]\n",
    "\n",
    "\n",
    "\n",
    "    # Produto Final\n",
    "    df_details = pd.concat( [df_details, data_composition] , axis=0)"
   ]
  },
  {
   "cell_type": "code",
   "execution_count": 22,
   "metadata": {},
   "outputs": [
    {
     "data": {
      "text/html": [
       "<div>\n",
       "<style scoped>\n",
       "    .dataframe tbody tr th:only-of-type {\n",
       "        vertical-align: middle;\n",
       "    }\n",
       "\n",
       "    .dataframe tbody tr th {\n",
       "        vertical-align: top;\n",
       "    }\n",
       "\n",
       "    .dataframe thead th {\n",
       "        text-align: right;\n",
       "    }\n",
       "</style>\n",
       "<table border=\"1\" class=\"dataframe\">\n",
       "  <thead>\n",
       "    <tr style=\"text-align: right;\">\n",
       "      <th></th>\n",
       "      <th>additional material information</th>\n",
       "      <th>art. no.</th>\n",
       "      <th>care instructions</th>\n",
       "      <th>collection</th>\n",
       "      <th>composition</th>\n",
       "      <th>concept</th>\n",
       "      <th>description</th>\n",
       "      <th>fit</th>\n",
       "      <th>imported</th>\n",
       "      <th>material</th>\n",
       "      <th>size</th>\n",
       "      <th>style_id</th>\n",
       "      <th>color_id</th>\n",
       "    </tr>\n",
       "  </thead>\n",
       "  <tbody>\n",
       "    <tr>\n",
       "      <th>1</th>\n",
       "      <td>NaN</td>\n",
       "      <td>1024256001</td>\n",
       "      <td>Only non-chlorine bleach when needed</td>\n",
       "      <td>NaN</td>\n",
       "      <td>Shell: Cotton 99%, Spandex 1%</td>\n",
       "      <td>DENIM</td>\n",
       "      <td>Black</td>\n",
       "      <td>Slim fit</td>\n",
       "      <td>Yes</td>\n",
       "      <td>Denim</td>\n",
       "      <td>NaN</td>\n",
       "      <td>1024256</td>\n",
       "      <td>001</td>\n",
       "    </tr>\n",
       "    <tr>\n",
       "      <th>2</th>\n",
       "      <td>NaN</td>\n",
       "      <td>1024256001</td>\n",
       "      <td>Medium iron</td>\n",
       "      <td>NaN</td>\n",
       "      <td>Pocket lining: Polyester 65%, Cotton 35%</td>\n",
       "      <td>DENIM</td>\n",
       "      <td>Solid-color</td>\n",
       "      <td>Slim fit</td>\n",
       "      <td>Yes</td>\n",
       "      <td>Denim</td>\n",
       "      <td>NaN</td>\n",
       "      <td>1024256</td>\n",
       "      <td>001</td>\n",
       "    </tr>\n",
       "    <tr>\n",
       "      <th>1</th>\n",
       "      <td>Recycled cotton 20%</td>\n",
       "      <td>0985159001</td>\n",
       "      <td>Only non-chlorine bleach when needed</td>\n",
       "      <td>NaN</td>\n",
       "      <td>Shell: Cotton 99%, Spandex 1%</td>\n",
       "      <td>DENIM</td>\n",
       "      <td>Black</td>\n",
       "      <td>Skinny fit</td>\n",
       "      <td>Yes</td>\n",
       "      <td>Denim</td>\n",
       "      <td>NaN</td>\n",
       "      <td>0985159</td>\n",
       "      <td>001</td>\n",
       "    </tr>\n",
       "  </tbody>\n",
       "</table>\n",
       "</div>"
      ],
      "text/plain": [
       "  additional material information    art. no.  \\\n",
       "1                             NaN  1024256001   \n",
       "2                             NaN  1024256001   \n",
       "1             Recycled cotton 20%  0985159001   \n",
       "\n",
       "                      care instructions collection  \\\n",
       "1  Only non-chlorine bleach when needed        NaN   \n",
       "2                           Medium iron        NaN   \n",
       "1  Only non-chlorine bleach when needed        NaN   \n",
       "\n",
       "                                composition concept  description         fit  \\\n",
       "1             Shell: Cotton 99%, Spandex 1%   DENIM        Black    Slim fit   \n",
       "2  Pocket lining: Polyester 65%, Cotton 35%   DENIM  Solid-color    Slim fit   \n",
       "1             Shell: Cotton 99%, Spandex 1%   DENIM        Black  Skinny fit   \n",
       "\n",
       "  imported material size style_id color_id  \n",
       "1      Yes    Denim  NaN  1024256      001  \n",
       "2      Yes    Denim  NaN  1024256      001  \n",
       "1      Yes    Denim  NaN  0985159      001  "
      ]
     },
     "execution_count": 22,
     "metadata": {},
     "output_type": "execute_result"
    }
   ],
   "source": [
    "df_details.head(3)"
   ]
  },
  {
   "cell_type": "code",
   "execution_count": 23,
   "metadata": {},
   "outputs": [
    {
     "name": "stdout",
     "output_type": "stream",
     "text": [
      "(36, 5) (68, 18)\n"
     ]
    },
    {
     "data": {
      "text/html": [
       "<div>\n",
       "<style scoped>\n",
       "    .dataframe tbody tr th:only-of-type {\n",
       "        vertical-align: middle;\n",
       "    }\n",
       "\n",
       "    .dataframe tbody tr th {\n",
       "        vertical-align: top;\n",
       "    }\n",
       "\n",
       "    .dataframe thead th {\n",
       "        text-align: right;\n",
       "    }\n",
       "</style>\n",
       "<table border=\"1\" class=\"dataframe\">\n",
       "  <thead>\n",
       "    <tr style=\"text-align: right;\">\n",
       "      <th></th>\n",
       "      <th>product_id</th>\n",
       "      <th>product_category</th>\n",
       "      <th>product_name</th>\n",
       "      <th>product_price</th>\n",
       "      <th>scrapy_datetime</th>\n",
       "      <th>additional material information</th>\n",
       "      <th>art. no.</th>\n",
       "      <th>care instructions</th>\n",
       "      <th>collection</th>\n",
       "      <th>composition</th>\n",
       "      <th>concept</th>\n",
       "      <th>description</th>\n",
       "      <th>fit</th>\n",
       "      <th>imported</th>\n",
       "      <th>material</th>\n",
       "      <th>size</th>\n",
       "      <th>style_id</th>\n",
       "      <th>color_id</th>\n",
       "    </tr>\n",
       "  </thead>\n",
       "  <tbody>\n",
       "    <tr>\n",
       "      <th>0</th>\n",
       "      <td>1024256001</td>\n",
       "      <td>men_jeans_slim</td>\n",
       "      <td>Slim Jeans</td>\n",
       "      <td>$ 19.99</td>\n",
       "      <td>2022-11-30 05:56:05</td>\n",
       "      <td>NaN</td>\n",
       "      <td>1024256001</td>\n",
       "      <td>Only non-chlorine bleach when needed</td>\n",
       "      <td>NaN</td>\n",
       "      <td>Shell: Cotton 99%, Spandex 1%</td>\n",
       "      <td>DENIM</td>\n",
       "      <td>Black</td>\n",
       "      <td>Slim fit</td>\n",
       "      <td>Yes</td>\n",
       "      <td>Denim</td>\n",
       "      <td>NaN</td>\n",
       "      <td>1024256</td>\n",
       "      <td>001</td>\n",
       "    </tr>\n",
       "    <tr>\n",
       "      <th>1</th>\n",
       "      <td>1024256001</td>\n",
       "      <td>men_jeans_slim</td>\n",
       "      <td>Slim Jeans</td>\n",
       "      <td>$ 19.99</td>\n",
       "      <td>2022-11-30 05:56:05</td>\n",
       "      <td>NaN</td>\n",
       "      <td>1024256001</td>\n",
       "      <td>Medium iron</td>\n",
       "      <td>NaN</td>\n",
       "      <td>Pocket lining: Polyester 65%, Cotton 35%</td>\n",
       "      <td>DENIM</td>\n",
       "      <td>Solid-color</td>\n",
       "      <td>Slim fit</td>\n",
       "      <td>Yes</td>\n",
       "      <td>Denim</td>\n",
       "      <td>NaN</td>\n",
       "      <td>1024256</td>\n",
       "      <td>001</td>\n",
       "    </tr>\n",
       "    <tr>\n",
       "      <th>2</th>\n",
       "      <td>0985159001</td>\n",
       "      <td>men_jeans_skinny</td>\n",
       "      <td>Skinny Jeans</td>\n",
       "      <td>$ 24.99</td>\n",
       "      <td>2022-11-30 05:56:05</td>\n",
       "      <td>Recycled cotton 20%</td>\n",
       "      <td>0985159001</td>\n",
       "      <td>Only non-chlorine bleach when needed</td>\n",
       "      <td>NaN</td>\n",
       "      <td>Shell: Cotton 99%, Spandex 1%</td>\n",
       "      <td>DENIM</td>\n",
       "      <td>Black</td>\n",
       "      <td>Skinny fit</td>\n",
       "      <td>Yes</td>\n",
       "      <td>Denim</td>\n",
       "      <td>NaN</td>\n",
       "      <td>0985159</td>\n",
       "      <td>001</td>\n",
       "    </tr>\n",
       "  </tbody>\n",
       "</table>\n",
       "</div>"
      ],
      "text/plain": [
       "   product_id  product_category  product_name product_price  \\\n",
       "0  1024256001    men_jeans_slim    Slim Jeans       $ 19.99   \n",
       "1  1024256001    men_jeans_slim    Slim Jeans       $ 19.99   \n",
       "2  0985159001  men_jeans_skinny  Skinny Jeans       $ 24.99   \n",
       "\n",
       "       scrapy_datetime additional material information    art. no.  \\\n",
       "0  2022-11-30 05:56:05                             NaN  1024256001   \n",
       "1  2022-11-30 05:56:05                             NaN  1024256001   \n",
       "2  2022-11-30 05:56:05             Recycled cotton 20%  0985159001   \n",
       "\n",
       "                      care instructions collection  \\\n",
       "0  Only non-chlorine bleach when needed        NaN   \n",
       "1                           Medium iron        NaN   \n",
       "2  Only non-chlorine bleach when needed        NaN   \n",
       "\n",
       "                                composition concept  description         fit  \\\n",
       "0             Shell: Cotton 99%, Spandex 1%   DENIM        Black    Slim fit   \n",
       "1  Pocket lining: Polyester 65%, Cotton 35%   DENIM  Solid-color    Slim fit   \n",
       "2             Shell: Cotton 99%, Spandex 1%   DENIM        Black  Skinny fit   \n",
       "\n",
       "  imported material size style_id color_id  \n",
       "0      Yes    Denim  NaN  1024256      001  \n",
       "1      Yes    Denim  NaN  1024256      001  \n",
       "2      Yes    Denim  NaN  0985159      001  "
      ]
     },
     "execution_count": 23,
     "metadata": {},
     "output_type": "execute_result"
    }
   ],
   "source": [
    "df_products2 = df_products.merge(df_details, left_on='product_id', right_on='art. no.', how='left', validate='one_to_many')\n",
    "print( df_products.shape, df_products2.shape)\n",
    "df_products2.head(3)"
   ]
  },
  {
   "cell_type": "code",
   "execution_count": 24,
   "metadata": {},
   "outputs": [],
   "source": [
    "df_products2.to_csv(\"df_products.csv\", index=False)"
   ]
  },
  {
   "cell_type": "code",
   "execution_count": null,
   "metadata": {},
   "outputs": [],
   "source": []
  }
 ],
 "metadata": {
  "kernelspec": {
   "display_name": "Python 3.10.4 ('price_env': venv)",
   "language": "python",
   "name": "python3"
  },
  "language_info": {
   "codemirror_mode": {
    "name": "ipython",
    "version": 3
   },
   "file_extension": ".py",
   "mimetype": "text/x-python",
   "name": "python",
   "nbconvert_exporter": "python",
   "pygments_lexer": "ipython3",
   "version": "3.10.4"
  },
  "toc-autonumbering": true,
  "toc-showmarkdowntxt": true,
  "toc-showtags": false,
  "vscode": {
   "interpreter": {
    "hash": "6b3cf94ad0ea9e5072dc92513d482749b2baee2b56d08f24e46a899ad6813480"
   }
  }
 },
 "nbformat": 4,
 "nbformat_minor": 4
}

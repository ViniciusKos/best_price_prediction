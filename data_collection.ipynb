{
 "cells": [
  {
   "cell_type": "markdown",
   "metadata": {},
   "source": [
    "High Value Customer Identification (Insiders)"
   ]
  },
  {
   "cell_type": "code",
   "execution_count": 120,
   "metadata": {},
   "outputs": [],
   "source": [
    "import pandas as pd\n",
    "import numpy as np\n",
    "from bs4 import BeautifulSoup\n",
    "from datetime import datetime\n",
    "import requests"
   ]
  },
  {
   "cell_type": "code",
   "execution_count": 48,
   "metadata": {},
   "outputs": [],
   "source": [
    "!pip list --format=freeze > requirements.txt"
   ]
  },
  {
   "cell_type": "markdown",
   "metadata": {},
   "source": [
    "# Multiple products"
   ]
  },
  {
   "cell_type": "code",
   "execution_count": 124,
   "metadata": {},
   "outputs": [
    {
     "data": {
      "text/plain": [
       "'90'"
      ]
     },
     "execution_count": 124,
     "metadata": {},
     "output_type": "execute_result"
    }
   ],
   "source": [
    "url = 'https://www2.hm.com/en_us/men/products/jeans.html'\n",
    "\n",
    "headers = {\"User-Agent\" : 'Mozilla/5.0 (Windows NT 10.0; Win64; x64) AppleWebKit/537.36 (KHTML, like Gecko) Chrome/107.0.0.0 Safari/537.36'}\n",
    "\n",
    "page = requests.get( url, headers=headers )\n",
    "\n",
    "soup = BeautifulSoup( page.text, \"html.parser\")\n",
    "\n",
    "total_item = soup.find_all( 'h2', class_='load-more-heading' )[0].get( 'data-total' )\n",
    "total_item"
   ]
  },
  {
   "cell_type": "code",
   "execution_count": 125,
   "metadata": {},
   "outputs": [
    {
     "data": {
      "text/plain": [
       "2.0"
      ]
     },
     "execution_count": 125,
     "metadata": {},
     "output_type": "execute_result"
    }
   ],
   "source": [
    "page_number = np.round( int( total_item ) / 36 )\n",
    "page_number"
   ]
  },
  {
   "cell_type": "code",
   "execution_count": 147,
   "metadata": {},
   "outputs": [
    {
     "data": {
      "text/plain": [
       "'https://www2.hm.com/en_us/men/products/jeans.html?page-size=72'"
      ]
     },
     "execution_count": 147,
     "metadata": {},
     "output_type": "execute_result"
    }
   ],
   "source": [
    "urlfull = url + '?page-size=' + str( int( page_number*36 ) )\n",
    "urlfull"
   ]
  },
  {
   "cell_type": "code",
   "execution_count": 152,
   "metadata": {},
   "outputs": [
    {
     "data": {
      "text/plain": [
       "['1024256001', '0985159001', '1008549001']"
      ]
     },
     "execution_count": 152,
     "metadata": {},
     "output_type": "execute_result"
    }
   ],
   "source": [
    "page = requests.get( urlfull , headers=headers )\n",
    "\n",
    "\n",
    "soup = BeautifulSoup( page.text, \"html.parser\")\n",
    "\n",
    "#total_item = p.find_all( 'h2', class_='load-more-heading' )[0].get( 'data-total' )\n",
    "\n",
    "total_item = [p.get(\"data-articlecode\") for p in soup.find_all(\"article\", class_='hm-product-item')]\n",
    "\n",
    "total_item[:3]"
   ]
  },
  {
   "cell_type": "code",
   "execution_count": 203,
   "metadata": {},
   "outputs": [],
   "source": [
    "df_details = pd.DataFrame()\n",
    "\n",
    "#unique columns for all products\n",
    "products_ids = []\n",
    "\n",
    "cols = ['Additional material information','Art. No.','Care instructions','Collection','Composition','Concept','Description','Fit','Imported','Material','Size']\n",
    "df_pattern = pd.DataFrame( columns = cols)\n",
    "\n",
    "for i in total_item:\n",
    "\n",
    "    url = f'https://www2.hm.com/en_us/productpage.{i}.html'\n",
    "\n",
    "    page = requests.get( url, headers=headers )\n",
    "\n",
    "    soup = BeautifulSoup( page.text , 'html.parser' )\n",
    "\n",
    "    aux = soup.find_all('a', class_='filter-option miniature active') + soup.find_all('a', class_='filter-option miniature')\n",
    "    aux = [p.get('data-articlecode') for p in aux]\n",
    "    products_ids.append(aux)"
   ]
  },
  {
   "cell_type": "code",
   "execution_count": 206,
   "metadata": {},
   "outputs": [
    {
     "data": {
      "text/plain": [
       "['1013317004',\n",
       " '1004199004',\n",
       " '0811993039',\n",
       " '0938875012',\n",
       " '0690449040',\n",
       " '0875105026',\n",
       " '0690449009',\n",
       " '1024256003',\n",
       " '0993887004',\n",
       " '0938875001',\n",
       " '0690449067',\n",
       " '0690449002',\n",
       " '1024256007',\n",
       " '0690449064',\n",
       " '0811993024',\n",
       " '1008549002',\n",
       " '0979945019',\n",
       " '0979945009',\n",
       " '1008549004',\n",
       " '0979945012',\n",
       " '1013317006',\n",
       " '0985159006',\n",
       " '0811993037',\n",
       " '0979945002',\n",
       " '0811993003',\n",
       " '0811993044',\n",
       " '0938875010',\n",
       " '0811993025',\n",
       " '1114023001',\n",
       " '0875105017',\n",
       " '1013317001',\n",
       " '0985159005',\n",
       " '0985159002',\n",
       " '1004199002',\n",
       " '0690449036',\n",
       " '1008110019',\n",
       " '1071707003',\n",
       " '0811993001',\n",
       " '0811993028',\n",
       " '0811993007',\n",
       " '1024711004',\n",
       " '1008549006',\n",
       " '0811993036',\n",
       " '1096385002',\n",
       " '1107750001',\n",
       " '1008549003',\n",
       " '1107750002',\n",
       " '1004199003',\n",
       " '1024711008',\n",
       " '0690449028',\n",
       " '0875105003',\n",
       " '1071707002',\n",
       " '0690449024',\n",
       " '1008110002',\n",
       " '0690449051',\n",
       " '0938875007',\n",
       " '0875105009',\n",
       " '1008549005',\n",
       " '0875105042',\n",
       " '0690449001',\n",
       " '0938875014',\n",
       " '1024256008',\n",
       " '0690449059',\n",
       " '1024256006',\n",
       " '0811993006',\n",
       " '1100162002',\n",
       " '0938875008',\n",
       " '1008110003',\n",
       " '1099503002',\n",
       " '0993887007',\n",
       " '0811993021',\n",
       " '0811993002',\n",
       " '0690449013',\n",
       " '0811993034',\n",
       " '0938875002',\n",
       " '1004199007',\n",
       " '1099503003',\n",
       " '0811993048',\n",
       " '1004199005',\n",
       " '1008110015',\n",
       " '0993887002',\n",
       " '1024711001',\n",
       " '0690449035',\n",
       " '0979945001',\n",
       " '0971061006',\n",
       " '0690449021',\n",
       " '1024711010',\n",
       " '1008110005',\n",
       " '0985159008',\n",
       " '0875105024',\n",
       " '1013317008',\n",
       " '0690449056',\n",
       " '1008110006',\n",
       " '0938875013',\n",
       " '0938875004',\n",
       " '1008110001',\n",
       " '0875105002',\n",
       " '0971061004',\n",
       " '0875105016',\n",
       " '0985159004',\n",
       " '0690449011',\n",
       " '0875105029',\n",
       " '0811993053',\n",
       " '0971061005',\n",
       " '0811993040',\n",
       " '0690449043',\n",
       " '1013317012',\n",
       " '1071707001',\n",
       " '0985159007',\n",
       " '0811993031',\n",
       " '0875105040',\n",
       " '1024256005',\n",
       " '0985159003',\n",
       " '1071707010',\n",
       " '0985159001',\n",
       " '1008549001',\n",
       " '0875105001',\n",
       " '1013317010',\n",
       " '0979945025',\n",
       " '0875105015',\n",
       " '1013317002',\n",
       " '1024256002',\n",
       " '0690449006',\n",
       " '1114023003',\n",
       " '0993887001',\n",
       " '1096385001',\n",
       " '1099503001',\n",
       " '1024711006',\n",
       " '0875105023',\n",
       " '1071707008',\n",
       " '0690449022',\n",
       " '1008549007',\n",
       " '0971061001',\n",
       " '0979945003',\n",
       " '0811993022',\n",
       " '1004199001',\n",
       " '0690449062',\n",
       " '0875105011',\n",
       " '1013317003',\n",
       " '1008549008',\n",
       " '1100162003',\n",
       " '1024256004',\n",
       " '0690449007',\n",
       " '0690449046',\n",
       " '1013317005',\n",
       " '0993887008',\n",
       " '0971061002',\n",
       " '1024711002',\n",
       " '1024256001',\n",
       " '0875105018']"
      ]
     },
     "execution_count": 206,
     "metadata": {},
     "output_type": "execute_result"
    }
   ],
   "source": [
    "products_ids2 = []\n",
    "\n",
    "for i in products_ids:\n",
    "    products_ids2 += i\n",
    "\n",
    "products_ids2 = list(set(products_ids2))\n",
    "\n",
    "products_ids2"
   ]
  },
  {
   "cell_type": "code",
   "execution_count": 270,
   "metadata": {},
   "outputs": [],
   "source": [
    "cols = [ 'product_name', 'price', 'composition', 'color', 'size', 'fit', 'article_code']\n",
    "df_pattern = pd.DataFrame( columns = cols)\n",
    "\n",
    "\n",
    "\n",
    "url = f'https://www2.hm.com/en_us/productpage.1013317003.html'\n",
    "\n",
    "page = requests.get( url, headers=headers )\n",
    "\n",
    "soup = BeautifulSoup( page.text , 'html.parser' )\n",
    "\n",
    "name_price = soup.find_all('section', class_='product-name-price')[0]\n",
    "\n",
    "product_name = name_price.find('h1').text\n",
    "product_price = name_price.find('span', class_='price-value').text"
   ]
  },
  {
   "cell_type": "code",
   "execution_count": 271,
   "metadata": {},
   "outputs": [
    {
     "data": {
      "text/plain": [
       "'\\r\\n                $39.99'"
      ]
     },
     "execution_count": 271,
     "metadata": {},
     "output_type": "execute_result"
    }
   ],
   "source": [
    "product_price"
   ]
  },
  {
   "cell_type": "code",
   "execution_count": 207,
   "metadata": {},
   "outputs": [
    {
     "ename": "KeyError",
     "evalue": "'art. no.'",
     "output_type": "error",
     "traceback": [
      "\u001b[1;31m---------------------------------------------------------------------------\u001b[0m",
      "\u001b[1;31mKeyError\u001b[0m                                  Traceback (most recent call last)",
      "File \u001b[1;32mp:\\Python\\GitHub\\best_price_prediction\\price_env\\lib\\site-packages\\pandas\\core\\indexes\\base.py:3803\u001b[0m, in \u001b[0;36mIndex.get_loc\u001b[1;34m(self, key, method, tolerance)\u001b[0m\n\u001b[0;32m   3802\u001b[0m \u001b[39mtry\u001b[39;00m:\n\u001b[1;32m-> 3803\u001b[0m     \u001b[39mreturn\u001b[39;00m \u001b[39mself\u001b[39;49m\u001b[39m.\u001b[39;49m_engine\u001b[39m.\u001b[39;49mget_loc(casted_key)\n\u001b[0;32m   3804\u001b[0m \u001b[39mexcept\u001b[39;00m \u001b[39mKeyError\u001b[39;00m \u001b[39mas\u001b[39;00m err:\n",
      "File \u001b[1;32mp:\\Python\\GitHub\\best_price_prediction\\price_env\\lib\\site-packages\\pandas\\_libs\\index.pyx:138\u001b[0m, in \u001b[0;36mpandas._libs.index.IndexEngine.get_loc\u001b[1;34m()\u001b[0m\n",
      "File \u001b[1;32mp:\\Python\\GitHub\\best_price_prediction\\price_env\\lib\\site-packages\\pandas\\_libs\\index.pyx:165\u001b[0m, in \u001b[0;36mpandas._libs.index.IndexEngine.get_loc\u001b[1;34m()\u001b[0m\n",
      "File \u001b[1;32mpandas\\_libs\\hashtable_class_helper.pxi:5745\u001b[0m, in \u001b[0;36mpandas._libs.hashtable.PyObjectHashTable.get_item\u001b[1;34m()\u001b[0m\n",
      "File \u001b[1;32mpandas\\_libs\\hashtable_class_helper.pxi:5753\u001b[0m, in \u001b[0;36mpandas._libs.hashtable.PyObjectHashTable.get_item\u001b[1;34m()\u001b[0m\n",
      "\u001b[1;31mKeyError\u001b[0m: 'art. no.'",
      "\nThe above exception was the direct cause of the following exception:\n",
      "\u001b[1;31mKeyError\u001b[0m                                  Traceback (most recent call last)",
      "Cell \u001b[1;32mIn [207], line 56\u001b[0m\n\u001b[0;32m     52\u001b[0m data_composition \u001b[39m=\u001b[39m data_composition[cols]\u001b[39m.\u001b[39mcopy()\n\u001b[0;32m     54\u001b[0m data_composition\u001b[39m.\u001b[39mcolumns \u001b[39m=\u001b[39m data_composition\u001b[39m.\u001b[39mcolumns\u001b[39m.\u001b[39mstr\u001b[39m.\u001b[39mlower()\n\u001b[1;32m---> 56\u001b[0m data_composition[\u001b[39m'\u001b[39m\u001b[39mstyle_id\u001b[39m\u001b[39m'\u001b[39m] \u001b[39m=\u001b[39m data_composition[\u001b[39m'\u001b[39;49m\u001b[39mart. no.\u001b[39;49m\u001b[39m'\u001b[39;49m]\u001b[39m.\u001b[39mstr[:\u001b[39m-\u001b[39m\u001b[39m3\u001b[39m]\n\u001b[0;32m     58\u001b[0m data_composition[\u001b[39m'\u001b[39m\u001b[39mcolor_id\u001b[39m\u001b[39m'\u001b[39m] \u001b[39m=\u001b[39m data_composition[\u001b[39m'\u001b[39m\u001b[39mart. no.\u001b[39m\u001b[39m'\u001b[39m]\u001b[39m.\u001b[39mstr[\u001b[39m-\u001b[39m\u001b[39m3\u001b[39m:]\n\u001b[0;32m     62\u001b[0m \u001b[39m# Produto Final\u001b[39;00m\n",
      "File \u001b[1;32mp:\\Python\\GitHub\\best_price_prediction\\price_env\\lib\\site-packages\\pandas\\core\\frame.py:3805\u001b[0m, in \u001b[0;36mDataFrame.__getitem__\u001b[1;34m(self, key)\u001b[0m\n\u001b[0;32m   3803\u001b[0m \u001b[39mif\u001b[39;00m \u001b[39mself\u001b[39m\u001b[39m.\u001b[39mcolumns\u001b[39m.\u001b[39mnlevels \u001b[39m>\u001b[39m \u001b[39m1\u001b[39m:\n\u001b[0;32m   3804\u001b[0m     \u001b[39mreturn\u001b[39;00m \u001b[39mself\u001b[39m\u001b[39m.\u001b[39m_getitem_multilevel(key)\n\u001b[1;32m-> 3805\u001b[0m indexer \u001b[39m=\u001b[39m \u001b[39mself\u001b[39;49m\u001b[39m.\u001b[39;49mcolumns\u001b[39m.\u001b[39;49mget_loc(key)\n\u001b[0;32m   3806\u001b[0m \u001b[39mif\u001b[39;00m is_integer(indexer):\n\u001b[0;32m   3807\u001b[0m     indexer \u001b[39m=\u001b[39m [indexer]\n",
      "File \u001b[1;32mp:\\Python\\GitHub\\best_price_prediction\\price_env\\lib\\site-packages\\pandas\\core\\indexes\\base.py:3805\u001b[0m, in \u001b[0;36mIndex.get_loc\u001b[1;34m(self, key, method, tolerance)\u001b[0m\n\u001b[0;32m   3803\u001b[0m     \u001b[39mreturn\u001b[39;00m \u001b[39mself\u001b[39m\u001b[39m.\u001b[39m_engine\u001b[39m.\u001b[39mget_loc(casted_key)\n\u001b[0;32m   3804\u001b[0m \u001b[39mexcept\u001b[39;00m \u001b[39mKeyError\u001b[39;00m \u001b[39mas\u001b[39;00m err:\n\u001b[1;32m-> 3805\u001b[0m     \u001b[39mraise\u001b[39;00m \u001b[39mKeyError\u001b[39;00m(key) \u001b[39mfrom\u001b[39;00m \u001b[39merr\u001b[39;00m\n\u001b[0;32m   3806\u001b[0m \u001b[39mexcept\u001b[39;00m \u001b[39mTypeError\u001b[39;00m:\n\u001b[0;32m   3807\u001b[0m     \u001b[39m# If we have a listlike key, _check_indexing_error will raise\u001b[39;00m\n\u001b[0;32m   3808\u001b[0m     \u001b[39m#  InvalidIndexError. Otherwise we fall through and re-raise\u001b[39;00m\n\u001b[0;32m   3809\u001b[0m     \u001b[39m#  the TypeError.\u001b[39;00m\n\u001b[0;32m   3810\u001b[0m     \u001b[39mself\u001b[39m\u001b[39m.\u001b[39m_check_indexing_error(key)\n",
      "\u001b[1;31mKeyError\u001b[0m: 'art. no.'"
     ]
    }
   ],
   "source": [
    "\n",
    "df_details = pd.DataFrame()\n",
    "\n",
    "#unique columns for all products\n",
    "aux = []\n",
    "\n",
    "cols = [ 'product-name', 'composition', 'color', 'size', 'fit', 'article-code']\n",
    "df_pattern = pd.DataFrame( columns = cols)\n",
    "\n",
    "for i in products_ids2[:2]:\n",
    "\n",
    "    url = f'https://www2.hm.com/en_us/productpage.{i}.html'\n",
    "\n",
    "    page = requests.get( url, headers=headers )\n",
    "\n",
    "    soup = BeautifulSoup( page.text , 'html.parser' )\n",
    "\n",
    "    product_list = soup.find_all('div', class_='details-attributes-list-item')\n",
    "\n",
    "\n",
    "    # remove empty strings\n",
    "    product_composition = [list(filter(None, p.get_text().split('\\n'))) for p in product_list]\n",
    "\n",
    "\n",
    "    # list to dataframe\n",
    "    data_composition = pd.DataFrame(product_composition).T\n",
    "\n",
    "\n",
    "    # data aux\n",
    "    data_composition_aux = data_composition.iloc[0]\n",
    "\n",
    "\n",
    "    # rename df columns\n",
    "    data_composition.columns = data_composition_aux\n",
    "\n",
    "    aux = aux + data_composition.columns.tolist()\n",
    "\n",
    "    aux = [i for i in aux if \"messages.\" not in i]\n",
    "\n",
    "    # forward fillna\n",
    "    data_composition = data_composition.iloc[1:].fillna(method='ffill')\n",
    "\n",
    "    data_composition['Composition'] = data_composition['Composition'].str.replace( \"Shell: |Pocket lining: |Lining\",\"\", regex=True )\n",
    "\n",
    "    data_composition = pd.concat( [df_pattern, data_composition], axis=0)\n",
    "\n",
    "\n",
    "    # drop duplicates\n",
    "    data_composition = data_composition.drop_duplicates(subset=['Fit', 'Composition', 'Art. No.'], keep='first', inplace=False, ignore_index=False)\n",
    "\n",
    "\n",
    "    # only selected columns\n",
    "    data_composition = data_composition[cols].copy()\n",
    "\n",
    "    data_composition.columns = data_composition.columns.str.lower()\n",
    "\n",
    "    data_composition['style_id'] = data_composition['art. no.'].str[:-3]\n",
    "\n",
    "    data_composition['color_id'] = data_composition['art. no.'].str[-3:]\n",
    "\n",
    "\n",
    "\n",
    "    # Produto Final\n",
    "    df_details = pd.concat( [df_details, data_composition] , axis=0)"
   ]
  },
  {
   "cell_type": "code",
   "execution_count": 58,
   "metadata": {},
   "outputs": [],
   "source": [
    "df_products2.to_csv(\"df_products.csv\", index=False)"
   ]
  },
  {
   "cell_type": "code",
   "execution_count": null,
   "metadata": {},
   "outputs": [],
   "source": []
  }
 ],
 "metadata": {
  "kernelspec": {
   "display_name": "Python 3.10.4 ('price_env': venv)",
   "language": "python",
   "name": "python3"
  },
  "language_info": {
   "codemirror_mode": {
    "name": "ipython",
    "version": 3
   },
   "file_extension": ".py",
   "mimetype": "text/x-python",
   "name": "python",
   "nbconvert_exporter": "python",
   "pygments_lexer": "ipython3",
   "version": "3.10.4"
  },
  "toc-autonumbering": true,
  "toc-showmarkdowntxt": true,
  "toc-showtags": false,
  "vscode": {
   "interpreter": {
    "hash": "6b3cf94ad0ea9e5072dc92513d482749b2baee2b56d08f24e46a899ad6813480"
   }
  }
 },
 "nbformat": 4,
 "nbformat_minor": 4
}

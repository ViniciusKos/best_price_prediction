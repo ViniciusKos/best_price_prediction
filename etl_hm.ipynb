{
 "cells": [
  {
   "cell_type": "markdown",
   "metadata": {},
   "source": [
    "# Data Cleaning"
   ]
  },
  {
   "cell_type": "code",
   "execution_count": 2,
   "metadata": {},
   "outputs": [],
   "source": [
    "import pandas as pd\n",
    "import sqlite3\n",
    "from sqlalchemy import create_engine\n",
    "import numpy as np\n",
    "from bs4 import BeautifulSoup\n",
    "from datetime import datetime\n",
    "import requests"
   ]
  },
  {
   "cell_type": "code",
   "execution_count": 3,
   "metadata": {},
   "outputs": [
    {
     "data": {
      "text/plain": [
       "'88'"
      ]
     },
     "execution_count": 3,
     "metadata": {},
     "output_type": "execute_result"
    }
   ],
   "source": [
    "def get_showroom_data( url, headers):\n",
    "\n",
    "    page = requests.get( url, headers=headers )\n",
    "\n",
    "    soup = BeautifulSoup( page.text, \"html.parser\")\n",
    "\n",
    "    total_item = soup.find_all( 'h2', class_='load-more-heading' )[0].get( 'data-total' )\n",
    "    page_number = np.round( int( total_item ) / 36 )\n",
    "    urlfull = url + '?page-size=' + str( int( page_number*36 ) )\n",
    "    page = requests.get( urlfull , headers=headers )\n",
    "    soup = BeautifulSoup( page.text, \"html.parser\")\n",
    "    total_item = [p.get(\"data-articlecode\") for p in soup.find_all(\"article\", class_='hm-product-item')]\n",
    "\n",
    "    products_ids = []\n",
    "\n",
    "    for i in total_item:\n",
    "\n",
    "        url = f'https://www2.hm.com/en_us/productpage.{i}.html'\n",
    "\n",
    "        page = requests.get( url, headers=headers )\n",
    "\n",
    "        soup = BeautifulSoup( page.text , 'html.parser' )\n",
    "\n",
    "        aux = soup.find_all('a', class_='filter-option miniature active') + soup.find_all('a', class_='filter-option miniature')\n",
    "        aux = [p.get('data-articlecode') for p in aux]\n",
    "\n",
    "        products_ids.append(aux)\n",
    "\n",
    "\n",
    "    products_ids2 = []\n",
    "\n",
    "    for i in products_ids:\n",
    "        products_ids2 += i\n",
    "\n",
    "    products_ids2 = list(set(products_ids2))\n",
    "\n",
    "\n",
    "    cols = ['product_id', 'product_name', 'composition', 'color', 'size', 'fit', 'additional material information']\n",
    "    df_pattern = pd.DataFrame( columns = cols)\n",
    "\n",
    "    for i in products_ids2:\n",
    "\n",
    "        url = f'https://www2.hm.com/en_us/productpage.{i}.html'\n",
    "        page = requests.get( url, headers=headers )\n",
    "        soup = BeautifulSoup( page.text , 'html.parser' )\n",
    "\n",
    "        product_list = soup.find_all('div', class_='details-attributes-list-item')\n",
    "\n",
    "        # remove empty strings\n",
    "        product_composition = [list(filter(None, p.get_text().split('\\n'))) for p in product_list]\n",
    "\n",
    "        dici = {}\n",
    "        for l2 in product_composition:\n",
    "            dici[l2[0].lower()] = l2[1]\n",
    "\n",
    "        name_price = soup.find_all('section', class_='product-name-price')[0]\n",
    "        product_name = name_price.find('h1').text\n",
    "        product_price = name_price.find('span', class_='price-value').text\n",
    "\n",
    "        dici['product_name'] = product_name\n",
    "        dici['price'] = product_price\n",
    "\n",
    "        aux = soup.find_all('a', class_='filter-option miniature active')[0]\n",
    "        dici['color'] = aux.get('data-color')\n",
    "\n",
    "\n",
    "        df_aux = pd.DataFrame.from_dict(dici, orient='index').T\n",
    "        df_aux = df_aux.rename(columns={'art. no.':\"product_id\"})\n",
    "\n",
    "        df_pattern = pd.concat( [df_pattern,df_aux] )\n",
    "\n",
    "    df_scraped = df_pattern.copy()\n",
    "    df_scraped['style_id'] = df_scraped['product_id'].str[:-3]\n",
    "    df_scraped['color_id'] = df_scraped['product_id'].str[-3:]\n",
    "    df_scraped = df_scraped.sort_values('product_id')\n",
    "    df_scraped['scrapy_datetime']=datetime.today()\n",
    "\n",
    "    df_scraped.to_csv(\"df_collected.csv\", index=False)\n",
    "\n",
    "    return df_scraped"
   ]
  },
  {
   "cell_type": "code",
   "execution_count": null,
   "metadata": {},
   "outputs": [],
   "source": [
    "def get_product_details( df_scrapped ):\n",
    "\n",
    "    df_clean = df_scrapped.copy()\n",
    "\n",
    "    for i in ['product_name', 'fit', 'description', 'material']:\n",
    "        df_clean[i] = df_clean[i].apply( lambda x: x.replace(\" \", \"_\").lower())\n",
    "        df_clean[i] = df_clean[i].apply( lambda x: x.replace(\"/\", \"_\").lower())\n",
    "\n",
    "    df_clean['composition'] = df_clean['composition'].str.lower()\n",
    "    df_clean['price'] = df_clean['price'].apply( lambda x: x.replace(\"$\", \"\")).astype(float)\n",
    "    df_clean['scrapy_datetime'] = pd.to_datetime(df_clean['scrapy_datetime'], format = \"%Y-%m-%d %H:%M:%S\")\n",
    "\n",
    "    df_clean = df_clean.drop(['size'], axis=1)\n",
    "\n",
    "    for i in ['style_id', 'color_id', 'product_id']:\n",
    "        df_clean[i] = df_clean[i].astype(int)\n",
    "\n",
    "    df_clean = df_clean.drop_duplicates()\n",
    "    df_clean = df_clean.reset_index(drop=True)\n",
    "\n",
    "    return df_clean"
   ]
  },
  {
   "cell_type": "code",
   "execution_count": 15,
   "metadata": {},
   "outputs": [],
   "source": [
    "query_drop = \"\"\"\n",
    "    DROP TABLE products\n",
    "\"\"\"\n",
    "\n",
    "conn = sqlite3.connect( \"hm_db.sqlite\" )\n",
    "cursor = conn.execute( query_drop )\n",
    "conn.commit()\n",
    "\n",
    "query_showroom_schema = \"\"\"\n",
    "\n",
    "    CREATE TABLE products (\n",
    "    product_id        INTEGER,\n",
    "    product_name      TEXT,\n",
    "    composition       TEXT,\n",
    "    color             TEXT,\n",
    "    size              TEXT,\n",
    "    fit               TEXT,\n",
    "    material          TEXT,\n",
    "    description       TEXT,\n",
    "    price             REAL,\n",
    "    style_id          INTEGER,\n",
    "    color_id          INTEGER,\n",
    "    scrapy_datetime   INTEGER\n",
    ")\n",
    "\n",
    "\"\"\"\n",
    "\n",
    "cursor = conn.execute( query_showroom_schema )\n",
    "conn.commit()\n",
    "conn.close()"
   ]
  },
  {
   "cell_type": "code",
   "execution_count": null,
   "metadata": {},
   "outputs": [],
   "source": [
    "def insert_into_database(df_clean):\n",
    "    conn = create_engine( 'sqlite:///hm_db.sqlite' , echo=False)\n",
    "    df_clean.to_sql( 'products' , con=conn, if_exists='append', index=False)"
   ]
  },
  {
   "cell_type": "code",
   "execution_count": null,
   "metadata": {},
   "outputs": [],
   "source": [
    "query = \"\"\"\n",
    "SELECT * FROM products\n",
    "\"\"\"\n",
    "\n",
    "df = pd.read_sql_query( query, conn)\n",
    "df.head()"
   ]
  },
  {
   "cell_type": "code",
   "execution_count": null,
   "metadata": {},
   "outputs": [],
   "source": []
  },
  {
   "cell_type": "code",
   "execution_count": null,
   "metadata": {},
   "outputs": [],
   "source": []
  },
  {
   "cell_type": "code",
   "execution_count": null,
   "metadata": {},
   "outputs": [],
   "source": [
    "if __name__ == \"__main__\":\n",
    "    \n",
    "    url = 'https://www2.hm.com/en_us/men/products/jeans.html'\n",
    "    headers = {\"User-Agent\" : 'Mozilla/5.0 (Windows NT 10.0; Win64; x64) AppleWebKit/537.36 (KHTML, like Gecko) Chrome/107.0.0.0 Safari/537.36'}\n",
    "\n",
    "    \n",
    "    # Extraction\n",
    "    \n",
    "    data_scraped = get_showroom_data( url, headers )\n",
    "    \n",
    "    # Transformation\n",
    "    df_clean = get_product_details( data_scraped )\n",
    "    \n",
    "    # Carga\n",
    "    data = insert_into_database( df_clean )\n",
    "        "
   ]
  }
 ],
 "metadata": {
  "kernelspec": {
   "display_name": "Python 3.10.4 ('price_env': venv)",
   "language": "python",
   "name": "python3"
  },
  "language_info": {
   "codemirror_mode": {
    "name": "ipython",
    "version": 3
   },
   "file_extension": ".py",
   "mimetype": "text/x-python",
   "name": "python",
   "nbconvert_exporter": "python",
   "pygments_lexer": "ipython3",
   "version": "3.10.4"
  },
  "toc-autonumbering": true,
  "toc-showmarkdowntxt": true,
  "toc-showtags": false,
  "vscode": {
   "interpreter": {
    "hash": "6b3cf94ad0ea9e5072dc92513d482749b2baee2b56d08f24e46a899ad6813480"
   }
  }
 },
 "nbformat": 4,
 "nbformat_minor": 4
}

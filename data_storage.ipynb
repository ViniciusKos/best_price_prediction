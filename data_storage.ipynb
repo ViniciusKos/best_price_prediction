{
 "cells": [
  {
   "cell_type": "markdown",
   "metadata": {},
   "source": [
    "# Data Cleaning"
   ]
  },
  {
   "cell_type": "code",
   "execution_count": 6,
   "metadata": {},
   "outputs": [],
   "source": [
    "import pandas as pd\n",
    "import sqlite3"
   ]
  },
  {
   "cell_type": "code",
   "execution_count": 7,
   "metadata": {},
   "outputs": [
    {
     "data": {
      "text/html": [
       "<div>\n",
       "<style scoped>\n",
       "    .dataframe tbody tr th:only-of-type {\n",
       "        vertical-align: middle;\n",
       "    }\n",
       "\n",
       "    .dataframe tbody tr th {\n",
       "        vertical-align: top;\n",
       "    }\n",
       "\n",
       "    .dataframe thead th {\n",
       "        text-align: right;\n",
       "    }\n",
       "</style>\n",
       "<table border=\"1\" class=\"dataframe\">\n",
       "  <thead>\n",
       "    <tr style=\"text-align: right;\">\n",
       "      <th></th>\n",
       "      <th>product_id</th>\n",
       "      <th>product_category</th>\n",
       "      <th>product_name</th>\n",
       "      <th>product_price</th>\n",
       "      <th>scrapy_datetime</th>\n",
       "      <th>additional material information</th>\n",
       "      <th>art. no.</th>\n",
       "      <th>care instructions</th>\n",
       "      <th>collection</th>\n",
       "      <th>composition</th>\n",
       "      <th>concept</th>\n",
       "      <th>description</th>\n",
       "      <th>fit</th>\n",
       "      <th>imported</th>\n",
       "      <th>material</th>\n",
       "      <th>style_id</th>\n",
       "      <th>color_id</th>\n",
       "      <th>size_number</th>\n",
       "      <th>size_model</th>\n",
       "    </tr>\n",
       "  </thead>\n",
       "  <tbody>\n",
       "    <tr>\n",
       "      <th>0</th>\n",
       "      <td>1024256001</td>\n",
       "      <td>men_jeans_slim</td>\n",
       "      <td>slim_jeans</td>\n",
       "      <td>19.99</td>\n",
       "      <td>2022-11-30 05:56:05</td>\n",
       "      <td>NaN</td>\n",
       "      <td>1024256001</td>\n",
       "      <td>Only non-chlorine bleach when needed</td>\n",
       "      <td>NaN</td>\n",
       "      <td>shell: cotton 99%, spandex 1%</td>\n",
       "      <td>DENIM</td>\n",
       "      <td>black</td>\n",
       "      <td>slim_fit</td>\n",
       "      <td>Yes</td>\n",
       "      <td>denim</td>\n",
       "      <td>1024256</td>\n",
       "      <td>1</td>\n",
       "      <td>NaN</td>\n",
       "      <td>NaN</td>\n",
       "    </tr>\n",
       "    <tr>\n",
       "      <th>1</th>\n",
       "      <td>1024256001</td>\n",
       "      <td>men_jeans_slim</td>\n",
       "      <td>slim_jeans</td>\n",
       "      <td>19.99</td>\n",
       "      <td>2022-11-30 05:56:05</td>\n",
       "      <td>NaN</td>\n",
       "      <td>1024256001</td>\n",
       "      <td>Medium iron</td>\n",
       "      <td>NaN</td>\n",
       "      <td>pocket lining: polyester 65%, cotton 35%</td>\n",
       "      <td>DENIM</td>\n",
       "      <td>solid-color</td>\n",
       "      <td>slim_fit</td>\n",
       "      <td>Yes</td>\n",
       "      <td>denim</td>\n",
       "      <td>1024256</td>\n",
       "      <td>1</td>\n",
       "      <td>NaN</td>\n",
       "      <td>NaN</td>\n",
       "    </tr>\n",
       "  </tbody>\n",
       "</table>\n",
       "</div>"
      ],
      "text/plain": [
       "   product_id product_category product_name  product_price  \\\n",
       "0  1024256001   men_jeans_slim   slim_jeans          19.99   \n",
       "1  1024256001   men_jeans_slim   slim_jeans          19.99   \n",
       "\n",
       "       scrapy_datetime additional material information    art. no.  \\\n",
       "0  2022-11-30 05:56:05                             NaN  1024256001   \n",
       "1  2022-11-30 05:56:05                             NaN  1024256001   \n",
       "\n",
       "                      care instructions  collection  \\\n",
       "0  Only non-chlorine bleach when needed         NaN   \n",
       "1                           Medium iron         NaN   \n",
       "\n",
       "                                composition concept  description       fit  \\\n",
       "0             shell: cotton 99%, spandex 1%   DENIM        black  slim_fit   \n",
       "1  pocket lining: polyester 65%, cotton 35%   DENIM  solid-color  slim_fit   \n",
       "\n",
       "  imported material  style_id  color_id  size_number size_model  \n",
       "0      Yes    denim   1024256         1          NaN        NaN  \n",
       "1      Yes    denim   1024256         1          NaN        NaN  "
      ]
     },
     "execution_count": 7,
     "metadata": {},
     "output_type": "execute_result"
    }
   ],
   "source": [
    "data = pd.read_csv(\"df_products_cleaned.csv\")\n",
    "data.head(2)"
   ]
  },
  {
   "cell_type": "code",
   "execution_count": 9,
   "metadata": {},
   "outputs": [
    {
     "data": {
      "text/plain": [
       "Index(['product_id', 'product_category', 'product_name', 'product_price',\n",
       "       'scrapy_datetime', 'additional material information', 'art. no.',\n",
       "       'care instructions', 'collection', 'composition', 'concept',\n",
       "       'description', 'fit', 'imported', 'material', 'style_id', 'color_id',\n",
       "       'size_number', 'size_model'],\n",
       "      dtype='object')"
      ]
     },
     "execution_count": 9,
     "metadata": {},
     "output_type": "execute_result"
    }
   ],
   "source": [
    "data.columns"
   ]
  },
  {
   "cell_type": "code",
   "execution_count": 10,
   "metadata": {},
   "outputs": [
    {
     "data": {
      "text/plain": [
       "product_id                           int64\n",
       "product_category                    object\n",
       "product_name                        object\n",
       "product_price                      float64\n",
       "scrapy_datetime                     object\n",
       "additional material information     object\n",
       "art. no.                             int64\n",
       "care instructions                   object\n",
       "collection                         float64\n",
       "composition                         object\n",
       "concept                             object\n",
       "description                         object\n",
       "fit                                 object\n",
       "imported                            object\n",
       "material                            object\n",
       "style_id                             int64\n",
       "color_id                             int64\n",
       "size_number                        float64\n",
       "size_model                          object\n",
       "dtype: object"
      ]
     },
     "execution_count": 10,
     "metadata": {},
     "output_type": "execute_result"
    }
   ],
   "source": [
    "data.dtypes"
   ]
  },
  {
   "cell_type": "code",
   "execution_count": 13,
   "metadata": {},
   "outputs": [],
   "source": [
    "query_showroom_schema = \"\"\"\n",
    "\n",
    "    CREATE TABLE showroom (\n",
    "\n",
    "        product_id          INTEGER,\n",
    "        product_category    TEXT, \n",
    "        product_name        TEXT, \n",
    "        product_price       REAL,\n",
    "        scrapy_datetime     TEXT, \n",
    "        additional material information     TEXT,\n",
    "        art no            INTEGER,\n",
    "        care instructions   TEXT, \n",
    "        collection          REAL,\n",
    "        composition         TEXT, \n",
    "        concept             TEXT,\n",
    "        description         TEXT, \n",
    "        fit                 TEXT, \n",
    "        imported            TEXT, \n",
    "        material            TEXT, \n",
    "        style_id            INTEGER, \n",
    "        color_id            INTEGER,\n",
    "        size_number         REAL, \n",
    "        size_model          TEXT\n",
    ")\n",
    "\n",
    "\"\"\""
   ]
  },
  {
   "cell_type": "code",
   "execution_count": 14,
   "metadata": {},
   "outputs": [],
   "source": [
    "# connect to database\n",
    "\n",
    "conn = sqlite3.connect( 'hm_db.sqlite' )\n",
    "cursor = conn.execute( query_showroom_schema )\n",
    "conn.commit()\n",
    "conn.close()"
   ]
  },
  {
   "cell_type": "code",
   "execution_count": null,
   "metadata": {},
   "outputs": [],
   "source": [
    "#CHANGE ART NO COLUMN NAME"
   ]
  }
 ],
 "metadata": {
  "kernelspec": {
   "display_name": "Python 3.10.4 ('price_env': venv)",
   "language": "python",
   "name": "python3"
  },
  "language_info": {
   "codemirror_mode": {
    "name": "ipython",
    "version": 3
   },
   "file_extension": ".py",
   "mimetype": "text/x-python",
   "name": "python",
   "nbconvert_exporter": "python",
   "pygments_lexer": "ipython3",
   "version": "3.10.4"
  },
  "toc-autonumbering": true,
  "toc-showmarkdowntxt": true,
  "toc-showtags": false,
  "vscode": {
   "interpreter": {
    "hash": "6b3cf94ad0ea9e5072dc92513d482749b2baee2b56d08f24e46a899ad6813480"
   }
  }
 },
 "nbformat": 4,
 "nbformat_minor": 4
}
